{
 "cells": [
  {
   "cell_type": "code",
   "metadata": {
    "tags": [],
    "cell_id": "eac8eb07-6c44-46fd-8935-7c0ca8cdbf02",
    "deepnote_to_be_reexecuted": false,
    "source_hash": "9b82ee11",
    "execution_start": 1651257391604,
    "execution_millis": 1345001,
    "deepnote_cell_type": "code",
    "deepnote_cell_height": 81
   },
   "source": "import pandas as pd",
   "execution_count": 1,
   "outputs": []
  },
  {
   "cell_type": "code",
   "source": "df = pd.read_csv(\"spam.csv\")",
   "metadata": {
    "cell_id": "ad882015dc9d4210975a004ec8097f20",
    "tags": [],
    "deepnote_to_be_reexecuted": false,
    "source_hash": "b662b8de",
    "execution_start": 1651257391604,
    "execution_millis": 1,
    "deepnote_cell_type": "code",
    "deepnote_cell_height": 81
   },
   "outputs": [],
   "execution_count": 2
  },
  {
   "cell_type": "code",
   "source": "df.head(5)",
   "metadata": {
    "cell_id": "a368c660a1a14746a779a457f811e1be",
    "tags": [],
    "deepnote_to_be_reexecuted": false,
    "source_hash": "245876d0",
    "execution_start": 1651257391652,
    "execution_millis": 47,
    "deepnote_cell_type": "code",
    "deepnote_cell_height": 395
   },
   "outputs": [
    {
     "output_type": "execute_result",
     "execution_count": 3,
     "data": {
      "application/vnd.deepnote.dataframe.v3+json": {
       "column_count": 5,
       "row_count": 5,
       "columns": [
        {
         "name": "v1",
         "dtype": "object",
         "stats": {
          "unique_count": 2,
          "nan_count": 0,
          "categories": [
           {
            "name": "ham",
            "count": 4
           },
           {
            "name": "spam",
            "count": 1
           }
          ]
         }
        },
        {
         "name": "v2",
         "dtype": "object",
         "stats": {
          "unique_count": 5,
          "nan_count": 0,
          "categories": [
           {
            "name": "Go until jurong point, crazy.. Available only in bugis n great world la e buffet... Cine there got amore wat...",
            "count": 1
           },
           {
            "name": "Ok lar... Joking wif u oni...",
            "count": 1
           },
           {
            "name": "3 others",
            "count": 3
           }
          ]
         }
        },
        {
         "name": "Unnamed: 2",
         "dtype": "object",
         "stats": {
          "unique_count": 0,
          "nan_count": 5,
          "categories": [
           {
            "name": "Missing",
            "count": 5
           }
          ]
         }
        },
        {
         "name": "Unnamed: 3",
         "dtype": "object",
         "stats": {
          "unique_count": 0,
          "nan_count": 5,
          "categories": [
           {
            "name": "Missing",
            "count": 5
           }
          ]
         }
        },
        {
         "name": "Unnamed: 4",
         "dtype": "object",
         "stats": {
          "unique_count": 0,
          "nan_count": 5,
          "categories": [
           {
            "name": "Missing",
            "count": 5
           }
          ]
         }
        },
        {
         "name": "_deepnote_index_column",
         "dtype": "int64"
        }
       ],
       "rows": [
        {
         "v1": "ham",
         "v2": "Go until jurong point, crazy.. Available only in bugis n great world la e buffet... Cine there got amore wat...",
         "Unnamed: 2": "nan",
         "Unnamed: 3": "nan",
         "Unnamed: 4": "nan",
         "_deepnote_index_column": 0
        },
        {
         "v1": "ham",
         "v2": "Ok lar... Joking wif u oni...",
         "Unnamed: 2": "nan",
         "Unnamed: 3": "nan",
         "Unnamed: 4": "nan",
         "_deepnote_index_column": 1
        },
        {
         "v1": "spam",
         "v2": "Free entry in 2 a wkly comp to win FA Cup final tkts 21st May 2005. Text FA to 87121 to receive entry question(std txt rate)T&C's apply 08452810075over18's",
         "Unnamed: 2": "nan",
         "Unnamed: 3": "nan",
         "Unnamed: 4": "nan",
         "_deepnote_index_column": 2
        },
        {
         "v1": "ham",
         "v2": "U dun say so early hor... U c already then say...",
         "Unnamed: 2": "nan",
         "Unnamed: 3": "nan",
         "Unnamed: 4": "nan",
         "_deepnote_index_column": 3
        },
        {
         "v1": "ham",
         "v2": "Nah I don't think he goes to usf, he lives around here though",
         "Unnamed: 2": "nan",
         "Unnamed: 3": "nan",
         "Unnamed: 4": "nan",
         "_deepnote_index_column": 4
        }
       ]
      },
      "text/plain": "     v1                                                 v2 Unnamed: 2  \\\n0   ham  Go until jurong point, crazy.. Available only ...        NaN   \n1   ham                      Ok lar... Joking wif u oni...        NaN   \n2  spam  Free entry in 2 a wkly comp to win FA Cup fina...        NaN   \n3   ham  U dun say so early hor... U c already then say...        NaN   \n4   ham  Nah I don't think he goes to usf, he lives aro...        NaN   \n\n  Unnamed: 3 Unnamed: 4  \n0        NaN        NaN  \n1        NaN        NaN  \n2        NaN        NaN  \n3        NaN        NaN  \n4        NaN        NaN  ",
      "text/html": "<div>\n<style scoped>\n    .dataframe tbody tr th:only-of-type {\n        vertical-align: middle;\n    }\n\n    .dataframe tbody tr th {\n        vertical-align: top;\n    }\n\n    .dataframe thead th {\n        text-align: right;\n    }\n</style>\n<table border=\"1\" class=\"dataframe\">\n  <thead>\n    <tr style=\"text-align: right;\">\n      <th></th>\n      <th>v1</th>\n      <th>v2</th>\n      <th>Unnamed: 2</th>\n      <th>Unnamed: 3</th>\n      <th>Unnamed: 4</th>\n    </tr>\n  </thead>\n  <tbody>\n    <tr>\n      <th>0</th>\n      <td>ham</td>\n      <td>Go until jurong point, crazy.. Available only ...</td>\n      <td>NaN</td>\n      <td>NaN</td>\n      <td>NaN</td>\n    </tr>\n    <tr>\n      <th>1</th>\n      <td>ham</td>\n      <td>Ok lar... Joking wif u oni...</td>\n      <td>NaN</td>\n      <td>NaN</td>\n      <td>NaN</td>\n    </tr>\n    <tr>\n      <th>2</th>\n      <td>spam</td>\n      <td>Free entry in 2 a wkly comp to win FA Cup fina...</td>\n      <td>NaN</td>\n      <td>NaN</td>\n      <td>NaN</td>\n    </tr>\n    <tr>\n      <th>3</th>\n      <td>ham</td>\n      <td>U dun say so early hor... U c already then say...</td>\n      <td>NaN</td>\n      <td>NaN</td>\n      <td>NaN</td>\n    </tr>\n    <tr>\n      <th>4</th>\n      <td>ham</td>\n      <td>Nah I don't think he goes to usf, he lives aro...</td>\n      <td>NaN</td>\n      <td>NaN</td>\n      <td>NaN</td>\n    </tr>\n  </tbody>\n</table>\n</div>"
     },
     "metadata": {}
    }
   ],
   "execution_count": 3
  },
  {
   "cell_type": "code",
   "source": "df.info()",
   "metadata": {
    "cell_id": "6fcb044a0da54ff1a2feb11e3428b5a9",
    "tags": [],
    "deepnote_to_be_reexecuted": false,
    "source_hash": "de1e323c",
    "execution_start": 1651257391704,
    "execution_millis": 39,
    "deepnote_cell_type": "code",
    "deepnote_cell_height": 333.359375
   },
   "outputs": [
    {
     "name": "stdout",
     "text": "<class 'pandas.core.frame.DataFrame'>\nRangeIndex: 5572 entries, 0 to 5571\nData columns (total 5 columns):\n #   Column      Non-Null Count  Dtype \n---  ------      --------------  ----- \n 0   v1          5572 non-null   object\n 1   v2          5572 non-null   object\n 2   Unnamed: 2  50 non-null     object\n 3   Unnamed: 3  12 non-null     object\n 4   Unnamed: 4  6 non-null      object\ndtypes: object(5)\nmemory usage: 217.8+ KB\n",
     "output_type": "stream"
    }
   ],
   "execution_count": 4
  },
  {
   "cell_type": "code",
   "source": "df['v1'].value_counts(dropna=False)",
   "metadata": {
    "cell_id": "664ec848b2294cf4887b1131d84157a6",
    "tags": [],
    "deepnote_to_be_reexecuted": false,
    "source_hash": "eafc6d3f",
    "execution_start": 1651257391748,
    "execution_millis": 39,
    "deepnote_cell_type": "code",
    "deepnote_cell_height": 156.578125,
    "deepnote_output_heights": [
     59.59375
    ]
   },
   "outputs": [
    {
     "output_type": "execute_result",
     "execution_count": 5,
     "data": {
      "text/plain": "ham     4825\nspam     747\nName: v1, dtype: int64"
     },
     "metadata": {}
    }
   ],
   "execution_count": 5
  },
  {
   "cell_type": "code",
   "source": "df['Unnamed: 2'].value_counts(dropna=False)",
   "metadata": {
    "cell_id": "7e97ad2375f54dbdb866727b7318808c",
    "tags": [],
    "deepnote_to_be_reexecuted": false,
    "source_hash": "1bf1e7dc",
    "execution_start": 1651257391796,
    "execution_millis": 77,
    "deepnote_cell_type": "code",
    "deepnote_cell_height": 708,
    "deepnote_output_heights": [
     611
    ]
   },
   "outputs": [
    {
     "output_type": "execute_result",
     "execution_count": 6,
     "data": {
      "text/plain": "NaN                                                                                                                                                 5522\n bt not his girlfrnd... G o o d n i g h t . . .@\"                                                                                                      3\n PO Box 5249                                                                                                                                           2\nGN                                                                                                                                                     2\n but dont try to prove it..\\\" .Gud noon....\"                                                                                                           2\nthis wont even start........ Datz confidence..\"                                                                                                        2\n don't miss ur best life for anything... Gud nyt...\"                                                                                                   2\n just as a shop has to give a guarantee on what they sell. B. G.\"                                                                                      1\nWell there's still a bit left if you guys want to tonight                                                                                              1\n But at d end my love compromised me for everything:-(\\\".. Gud mornin:-)\"                                                                              1\n its a miracle to Love a person who can't Love anyone except U...\\\" Gud nyt...\"                                                                        1\n that's the tiny street where the parking lot is\"                                                                                                      1\n Gud night....\"                                                                                                                                        1\n we made you hold all the weed\\\"\"                                                                                                                      1\nDEVIOUSBITCH.ANYWAY                                                                                                                                    1\n but dont try to prove\\\" ..... Gud mrng...\"                                                                                                            1\n Dont Come Near My Body..!! Bcoz My Hands May Not Come 2 Wipe Ur Tears Off That Time..!Gud ni8\"                                                        1\nu hav2hear it!c u sn xxxx\\\"\"                                                                                                                           1\n HAD A COOL NYTHO                                                                                                                                      1\n wanted to say hi. HI!!!\\\" Stop? Send STOP to 62468\"                                                                                                   1\n \\\"It is d wonderful fruit that a tree gives when it is being hurt by a stone.. Good night......\"                                                      1\n the toughest is acting Happy with all unspoken pain inside..\\\"\"                                                                                       1\n ENJOYIN INDIANS AT THE MO..yeP. SaLL gOoD HehE ;> hows bout u shexy? Pete Xx\\\"\"                                                                       1\n b'coz nobody will fight for u. Only u &amp; u have to fight for ur self &amp; win the battle. -VIVEKANAND- G 9t.. SD..\"                               1\njust been in bedbut mite go 2 thepub l8tr if uwana mt up?loads a luv Jenxxx.\\\"\"                                                                        1\n I don't mind                                                                                                                                          1\n GOD said                                                                                                                                              1\n always give response 2 who cares 4 U\\\"... Gud night..swt dreams..take care\"                                                                           1\n.;-):-D\"                                                                                                                                               1\nJUST REALLYNEED 2DOCD.PLEASE DONTPLEASE DONTIGNORE MYCALLS                                                                                             1\n justthought i��d sayhey! how u doin?nearly the endof me wk offdam nevamind!We will have 2Hook up sn if uwant m8? loveJen x.\\\"\"                        1\n but watever u shared should be true\\\"....\"                                                                                                            1\n smoke hella weed\\\"\"                                                                                                                                   1\n\\\" not \\\"what i need to do.\\\"\"                                                                                                                         1\nJUST GOT PAYED2DAY & I HAVBEEN GIVEN A�50 PAY RISE 4MY WORK & HAVEBEEN MADE PRESCHOOLCO-ORDINATOR 2I AM FEELINGOOD LUV\\\"\"                              1\n the person is definitely special for u..... But if the person is so special                                                                           1\n I'll come up\"                                                                                                                                         1\n like you are the KING\\\"...! OR \\\"Walk like you Dont care                                                                                              1\n hopeSo hunny. i amnow feelin ill & ithink i may have tonsolitusaswell! damn iam layin in bedreal bored. lotsof luv me xxxx\\\"\"                         1\n SHE SHUDVETOLD U. DID URGRAN KNOW?NEWAY                                                                                                               1\nPROBPOP IN & CU SATTHEN HUNNY 4BREKKIE! LOVE JEN XXX. PSXTRA LRG PORTIONS 4 ME PLEASE \\\"\"                                                              1\n HOWU DOIN? FOUNDURSELF A JOBYET SAUSAGE?LOVE JEN XXX\\\"\"                                                                                               1\n HOPE UR OK... WILL GIVE U A BUZ WEDLUNCH. GO OUTSOMEWHERE 4 ADRINK IN TOWN..CUD GO 2WATERSHD 4 A BIT? PPL FROMWRK WILL BTHERE. LOVE PETEXXX.\\\"\"       1\n PO Box 1146 MK45 2WT (2/3)\"                                                                                                                           1\nName: Unnamed: 2, dtype: int64"
     },
     "metadata": {}
    }
   ],
   "execution_count": 6
  },
  {
   "cell_type": "code",
   "source": "df['v2'].value_counts(dropna=False)",
   "metadata": {
    "cell_id": "0d6b2623d8704ff3ad866d1759713c6f",
    "tags": [],
    "deepnote_to_be_reexecuted": false,
    "source_hash": "2cf58fdd",
    "execution_start": 1651257391872,
    "execution_millis": 11,
    "deepnote_cell_type": "code",
    "deepnote_cell_height": 329.375,
    "deepnote_output_heights": [
     232.390625
    ]
   },
   "outputs": [
    {
     "output_type": "execute_result",
     "execution_count": 7,
     "data": {
      "text/plain": "Sorry, I'll call later                                                                                                                                       30\nI cant pick the phone right now. Pls send a message                                                                                                          12\nOk...                                                                                                                                                        10\nYour opinion about me? 1. Over 2. Jada 3. Kusruthi 4. Lovable 5. Silent 6. Spl character 7. Not matured 8. Stylish 9. Simple Pls reply..                      4\n7 wonders in My WORLD 7th You 6th Ur style 5th Ur smile 4th Ur Personality 3rd Ur Nature 2nd Ur SMS and 1st \\Ur Lovely Friendship\\\"... good morning dear\"     4\n                                                                                                                                                             ..\nHave you finished work yet? :)                                                                                                                                1\nYo, the game almost over? Want to go to walmart soon                                                                                                          1\nI am in tirupur.  call you da.                                                                                                                                1\nExactly. Anyways how far. Is jide her to study or just visiting                                                                                               1\n\\Hey j! r u feeling any better                                                                                                                                1\nName: v2, Length: 5169, dtype: int64"
     },
     "metadata": {}
    }
   ],
   "execution_count": 7
  },
  {
   "cell_type": "code",
   "source": "df.rename(columns={'v1':'Target','v2':'Message'},inplace=True)",
   "metadata": {
    "cell_id": "1f2e6deb02df4f4d85efae1e81de7143",
    "tags": [],
    "deepnote_to_be_reexecuted": false,
    "source_hash": "c7e6fd39",
    "execution_start": 1651257391893,
    "execution_millis": 13,
    "deepnote_cell_type": "code",
    "deepnote_cell_height": 81
   },
   "outputs": [],
   "execution_count": 8
  },
  {
   "cell_type": "code",
   "source": "df.head(2)",
   "metadata": {
    "cell_id": "64459ce80fd745c794df9da54a4a1d09",
    "tags": [],
    "deepnote_to_be_reexecuted": false,
    "source_hash": "6cd8acfd",
    "execution_start": 1651257391912,
    "execution_millis": 614,
    "deepnote_cell_type": "code",
    "deepnote_cell_height": 272
   },
   "outputs": [
    {
     "output_type": "execute_result",
     "execution_count": 9,
     "data": {
      "application/vnd.deepnote.dataframe.v3+json": {
       "column_count": 5,
       "row_count": 2,
       "columns": [
        {
         "name": "Target",
         "dtype": "object",
         "stats": {
          "unique_count": 1,
          "nan_count": 0,
          "categories": [
           {
            "name": "ham",
            "count": 2
           }
          ]
         }
        },
        {
         "name": "Message",
         "dtype": "object",
         "stats": {
          "unique_count": 2,
          "nan_count": 0,
          "categories": [
           {
            "name": "Go until jurong point, crazy.. Available only in bugis n great world la e buffet... Cine there got amore wat...",
            "count": 1
           },
           {
            "name": "Ok lar... Joking wif u oni...",
            "count": 1
           }
          ]
         }
        },
        {
         "name": "Unnamed: 2",
         "dtype": "object",
         "stats": {
          "unique_count": 0,
          "nan_count": 2,
          "categories": [
           {
            "name": "Missing",
            "count": 2
           }
          ]
         }
        },
        {
         "name": "Unnamed: 3",
         "dtype": "object",
         "stats": {
          "unique_count": 0,
          "nan_count": 2,
          "categories": [
           {
            "name": "Missing",
            "count": 2
           }
          ]
         }
        },
        {
         "name": "Unnamed: 4",
         "dtype": "object",
         "stats": {
          "unique_count": 0,
          "nan_count": 2,
          "categories": [
           {
            "name": "Missing",
            "count": 2
           }
          ]
         }
        },
        {
         "name": "_deepnote_index_column",
         "dtype": "int64"
        }
       ],
       "rows": [
        {
         "Target": "ham",
         "Message": "Go until jurong point, crazy.. Available only in bugis n great world la e buffet... Cine there got amore wat...",
         "Unnamed: 2": "nan",
         "Unnamed: 3": "nan",
         "Unnamed: 4": "nan",
         "_deepnote_index_column": 0
        },
        {
         "Target": "ham",
         "Message": "Ok lar... Joking wif u oni...",
         "Unnamed: 2": "nan",
         "Unnamed: 3": "nan",
         "Unnamed: 4": "nan",
         "_deepnote_index_column": 1
        }
       ]
      },
      "text/plain": "  Target                                            Message Unnamed: 2  \\\n0    ham  Go until jurong point, crazy.. Available only ...        NaN   \n1    ham                      Ok lar... Joking wif u oni...        NaN   \n\n  Unnamed: 3 Unnamed: 4  \n0        NaN        NaN  \n1        NaN        NaN  ",
      "text/html": "<div>\n<style scoped>\n    .dataframe tbody tr th:only-of-type {\n        vertical-align: middle;\n    }\n\n    .dataframe tbody tr th {\n        vertical-align: top;\n    }\n\n    .dataframe thead th {\n        text-align: right;\n    }\n</style>\n<table border=\"1\" class=\"dataframe\">\n  <thead>\n    <tr style=\"text-align: right;\">\n      <th></th>\n      <th>Target</th>\n      <th>Message</th>\n      <th>Unnamed: 2</th>\n      <th>Unnamed: 3</th>\n      <th>Unnamed: 4</th>\n    </tr>\n  </thead>\n  <tbody>\n    <tr>\n      <th>0</th>\n      <td>ham</td>\n      <td>Go until jurong point, crazy.. Available only ...</td>\n      <td>NaN</td>\n      <td>NaN</td>\n      <td>NaN</td>\n    </tr>\n    <tr>\n      <th>1</th>\n      <td>ham</td>\n      <td>Ok lar... Joking wif u oni...</td>\n      <td>NaN</td>\n      <td>NaN</td>\n      <td>NaN</td>\n    </tr>\n  </tbody>\n</table>\n</div>"
     },
     "metadata": {}
    }
   ],
   "execution_count": 9
  },
  {
   "cell_type": "code",
   "source": "df=df.drop(columns=[\"Unnamed: 2\",\"Unnamed: 3\",\"Unnamed: 4\"])",
   "metadata": {
    "cell_id": "db3ee372fc9b441086ece09e9fea5c81",
    "tags": [],
    "deepnote_to_be_reexecuted": false,
    "source_hash": "929ad43e",
    "execution_start": 1651257391975,
    "execution_millis": 15,
    "deepnote_cell_type": "code",
    "deepnote_cell_height": 81
   },
   "outputs": [],
   "execution_count": 10
  },
  {
   "cell_type": "code",
   "source": "df.head(3)",
   "metadata": {
    "cell_id": "f76b92d1f49a476d9a81985d02bc7630",
    "tags": [],
    "deepnote_to_be_reexecuted": false,
    "source_hash": "3a1ea484",
    "execution_start": 1651257391995,
    "execution_millis": 533,
    "owner_user_id": "faf92b70-fabb-4800-a7cb-40547d3724df",
    "deepnote_cell_type": "code",
    "deepnote_cell_height": 313
   },
   "outputs": [
    {
     "output_type": "execute_result",
     "execution_count": 11,
     "data": {
      "application/vnd.deepnote.dataframe.v3+json": {
       "column_count": 2,
       "row_count": 3,
       "columns": [
        {
         "name": "Target",
         "dtype": "object",
         "stats": {
          "unique_count": 2,
          "nan_count": 0,
          "categories": [
           {
            "name": "ham",
            "count": 2
           },
           {
            "name": "spam",
            "count": 1
           }
          ]
         }
        },
        {
         "name": "Message",
         "dtype": "object",
         "stats": {
          "unique_count": 3,
          "nan_count": 0,
          "categories": [
           {
            "name": "Go until jurong point, crazy.. Available only in bugis n great world la e buffet... Cine there got amore wat...",
            "count": 1
           },
           {
            "name": "Ok lar... Joking wif u oni...",
            "count": 1
           },
           {
            "name": "Free entry in 2 a wkly comp to win FA Cup final tkts 21st May 2005. Text FA to 87121 to receive entry question(std txt rate)T&C's apply 08452810075over18's",
            "count": 1
           }
          ]
         }
        },
        {
         "name": "_deepnote_index_column",
         "dtype": "int64"
        }
       ],
       "rows": [
        {
         "Target": "ham",
         "Message": "Go until jurong point, crazy.. Available only in bugis n great world la e buffet... Cine there got amore wat...",
         "_deepnote_index_column": 0
        },
        {
         "Target": "ham",
         "Message": "Ok lar... Joking wif u oni...",
         "_deepnote_index_column": 1
        },
        {
         "Target": "spam",
         "Message": "Free entry in 2 a wkly comp to win FA Cup final tkts 21st May 2005. Text FA to 87121 to receive entry question(std txt rate)T&C's apply 08452810075over18's",
         "_deepnote_index_column": 2
        }
       ]
      },
      "text/plain": "  Target                                            Message\n0    ham  Go until jurong point, crazy.. Available only ...\n1    ham                      Ok lar... Joking wif u oni...\n2   spam  Free entry in 2 a wkly comp to win FA Cup fina...",
      "text/html": "<div>\n<style scoped>\n    .dataframe tbody tr th:only-of-type {\n        vertical-align: middle;\n    }\n\n    .dataframe tbody tr th {\n        vertical-align: top;\n    }\n\n    .dataframe thead th {\n        text-align: right;\n    }\n</style>\n<table border=\"1\" class=\"dataframe\">\n  <thead>\n    <tr style=\"text-align: right;\">\n      <th></th>\n      <th>Target</th>\n      <th>Message</th>\n    </tr>\n  </thead>\n  <tbody>\n    <tr>\n      <th>0</th>\n      <td>ham</td>\n      <td>Go until jurong point, crazy.. Available only ...</td>\n    </tr>\n    <tr>\n      <th>1</th>\n      <td>ham</td>\n      <td>Ok lar... Joking wif u oni...</td>\n    </tr>\n    <tr>\n      <th>2</th>\n      <td>spam</td>\n      <td>Free entry in 2 a wkly comp to win FA Cup fina...</td>\n    </tr>\n  </tbody>\n</table>\n</div>"
     },
     "metadata": {}
    }
   ],
   "execution_count": 11
  },
  {
   "cell_type": "markdown",
   "source": "<a style='text-decoration:none;line-height:16px;display:flex;color:#5B5B62;padding:10px;justify-content:end;' href='https://deepnote.com?utm_source=created-in-deepnote-cell&projectId=4afc7242-b06c-4655-9d78-2b6161b37f87' target=\"_blank\">\n<img alt='Created in deepnote.com' style='display:inline;max-height:16px;margin:0px;margin-right:7.5px;' src='data:image/svg+xml;base64,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' > </img>\nCreated in <span style='font-weight:600;margin-left:4px;'>Deepnote</span></a>",
   "metadata": {
    "tags": [],
    "created_in_deepnote_cell": true,
    "deepnote_cell_type": "markdown"
   }
  }
 ],
 "nbformat": 4,
 "nbformat_minor": 2,
 "metadata": {
  "orig_nbformat": 2,
  "deepnote": {},
  "deepnote_notebook_id": "bde47e26-5d74-4dc3-9aa5-e84711651d51",
  "deepnote_execution_queue": []
 }
}